{
 "cells": [
  {
   "cell_type": "code",
   "execution_count": 18,
   "metadata": {},
   "outputs": [],
   "source": [
    "import numpy as np\n",
    "import pandas as pd\n",
    "import matplotlib.pyplot as plt"
   ]
  },
  {
   "cell_type": "code",
   "execution_count": 19,
   "metadata": {},
   "outputs": [
    {
     "name": "stdout",
     "output_type": "stream",
     "text": [
      "<class 'pandas.core.frame.DataFrame'>\n",
      "RangeIndex: 569 entries, 0 to 568\n",
      "Data columns (total 10 columns):\n",
      " #   Column                       Non-Null Count  Dtype\n",
      "---  ------                       --------------  -----\n",
      " 0   clump_thickness              569 non-null    int64\n",
      " 1   uniformity_of_cell_size      569 non-null    int64\n",
      " 2   uniformity_of_cell_shape     569 non-null    int64\n",
      " 3   marginal_adhesion            569 non-null    int64\n",
      " 4   single_epithelial_cell_size  569 non-null    int64\n",
      " 5   bare_nuclei                  569 non-null    int64\n",
      " 6   bland_chromatin              569 non-null    int64\n",
      " 7   normal_nucleoli              569 non-null    int64\n",
      " 8   mitosis                      569 non-null    int64\n",
      " 9   class                        569 non-null    int64\n",
      "dtypes: int64(10)\n",
      "memory usage: 44.6 KB\n"
     ]
    }
   ],
   "source": [
    "dataset =pd.read_csv('data/breast_cancer.csv')\n",
    "dataset.info()\n",
    "\n",
    "X = dataset.iloc[:,0:9]\n",
    "y = dataset.iloc[:,9]\n",
    "\n",
    "# 타겟 컬럼 계층화 (Stratify)\n",
    "from sklearn.model_selection import train_test_split\n",
    "X_train, X_test, y_train, y_test = train_test_split(X, y, stratify=y)"
   ]
  },
  {
   "cell_type": "code",
   "execution_count": 22,
   "metadata": {},
   "outputs": [
    {
     "name": "stdout",
     "output_type": "stream",
     "text": [
      "prediction :  [2 2 2 2 2 2 2 2 4 2 4 2 2 4 4 2 4 4 4 2 2 2 2 2 2 2 2 2 2 2 4 2 2 2 2 2 4\n",
      " 2 4 2 4 2 2 2 2 4 2 2 2 2 2 2 4 2 4 4 4 4 2 2 2 4 2 2 4 2 4 4 2 4 4 2 4 2\n",
      " 2 2 4 2 2 4 4 4 2 2 4 4 2 4 2 2 4 2 2 4 4 4 2 2 2 4 2 2 2 2 2 4 2 4 4 4 2\n",
      " 2 2 2 2 4 4 2 2 2 2 4 2 2 2 2 4 4 2 4 2 2 2 4 2 2 2 4 2 2 2 2 2]\n",
      "Train Data score :  0.958\n",
      "Test Data score :  0.958\n"
     ]
    }
   ],
   "source": [
    "from sklearn.linear_model import LogisticRegression\n",
    "\n",
    "logreg = LogisticRegression(max_iter = 1000).fit(X_train,y_train)\n",
    "\n",
    "print('prediction : ', logreg.predict(X_test))\n",
    "print('Train Data score : ', round(logreg.score(X_train,y_train),3))\n",
    "print('Test Data score : ',  round(logreg.score(X_test,y_test),3))\n"
   ]
  }
 ],
 "metadata": {
  "interpreter": {
   "hash": "570feb405e2e27c949193ac68f46852414290d515b0ba6e5d90d076ed2284471"
  },
  "kernelspec": {
   "display_name": "Python 3.8.5 64-bit",
   "language": "python",
   "name": "python3"
  },
  "language_info": {
   "codemirror_mode": {
    "name": "ipython",
    "version": 3
   },
   "file_extension": ".py",
   "mimetype": "text/x-python",
   "name": "python",
   "nbconvert_exporter": "python",
   "pygments_lexer": "ipython3",
   "version": "3.8.5"
  },
  "orig_nbformat": 4
 },
 "nbformat": 4,
 "nbformat_minor": 2
}

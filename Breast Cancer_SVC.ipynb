{
 "cells": [
  {
   "cell_type": "code",
   "execution_count": 20,
   "metadata": {},
   "outputs": [],
   "source": [
    "import numpy as np\n",
    "import pandas as pd\n",
    "import matplotlib.pyplot as plt\n",
    "\n",
    "dataset =pd.read_csv('data/breast_cancer.csv')\n",
    "\n",
    "X = dataset.iloc[:,0:9]\n",
    "y = dataset.iloc[:,9]\n",
    "\n",
    "# 타겟 컬럼 계층화 (Stratify)\n",
    "from sklearn.model_selection import train_test_split\n",
    "X_train, X_test, y_train, y_test = train_test_split(X, y, stratify=y)"
   ]
  },
  {
   "cell_type": "code",
   "execution_count": 47,
   "metadata": {},
   "outputs": [
    {
     "name": "stdout",
     "output_type": "stream",
     "text": [
      "Train Data score :  0.634\n",
      "Test Data score :  0.636\n",
      "[[91  0]\n",
      " [52  0]]\n",
      "precision_score :  0.3181818181818182\n",
      "recall_score :  0.5\n",
      "f1_score :  0.3888888888888889\n",
      "SVC()\n",
      "[[91  0]\n",
      " [52  0]]\n"
     ]
    },
    {
     "name": "stderr",
     "output_type": "stream",
     "text": [
      "c:\\Program Files\\Python38\\lib\\site-packages\\sklearn\\metrics\\_classification.py:1327: UndefinedMetricWarning: Precision is ill-defined and being set to 0.0 in labels with no predicted samples. Use `zero_division` parameter to control this behavior.\n",
      "  _warn_prf(average, modifier, msg_start, len(result))\n",
      "c:\\Program Files\\Python38\\lib\\site-packages\\sklearn\\utils\\deprecation.py:87: FutureWarning: Function plot_confusion_matrix is deprecated; Function `plot_confusion_matrix` is deprecated in 1.0 and will be removed in 1.2. Use one of the class methods: ConfusionMatrixDisplay.from_predictions or ConfusionMatrixDisplay.from_estimator.\n",
      "  warnings.warn(msg, category=FutureWarning)\n"
     ]
    },
    {
     "data": {
      "image/png": "[encoded data removed]",
      "text/plain": [
       "<Figure size 432x288 with 2 Axes>"
      ]
     },
     "metadata": {
      "needs_background": "light"
     },
     "output_type": "display_data"
    }
   ],
   "source": [
    "# 설정 x\n",
    "from sklearn.metrics import f1_score\n",
    "from sklearn.metrics import recall_score\n",
    "from sklearn.metrics import precision_score\n",
    "from sklearn.metrics import confusion_matrix\n",
    "from sklearn.svm import SVC\n",
    "svc = SVC()\n",
    "svc.fit(X_train, y_train)\n",
    "\n",
    "print('Train Data score : ', round(svc.score(X_train, y_train), 3))\n",
    "print('Test Data score : ',  round(svc.score(X_test, y_test), 3))\n",
    "\n",
    "prediction = svc.predict(X_test)\n",
    "confusion = confusion_matrix(y_true=y_test, y_pred=prediction)\n",
    "print(confusion)\n",
    "\n",
    "# 분류 알고리즘 평가\n",
    "precision = precision_score(y_test, prediction, average='macro')\n",
    "print('precision_score : ', precision)\n",
    "\n",
    "recall = recall_score(y_test, prediction, average='macro')\n",
    "print('recall_score : ', recall)\n",
    "\n",
    "f1 = f1_score(y_test, prediction, average='macro')\n",
    "print('f1_score : ', f1)\n",
    "\n",
    "import matplotlib.pyplot as plt\n",
    "from sklearn.metrics import plot_confusion_matrix\n",
    "\n",
    "titles_options = [('SVC()', None)]\n",
    "for title, normalize in titles_options:\n",
    "    disp = plot_confusion_matrix(\n",
    "        svc, X_test, y_test, cmap=plt.cm.Blues, normalize=normalize)\n",
    "    disp.ax_.set_title(title)\n",
    "\n",
    "\n",
    "plt.show()\n"
   ]
  },
  {
   "cell_type": "code",
   "execution_count": 44,
   "metadata": {},
   "outputs": [
    {
     "name": "stdout",
     "output_type": "stream",
     "text": [
      "Train Data score :  1.0\n",
      "Test Data score :  0.895\n",
      "[[76 15]\n",
      " [ 0 52]]\n",
      "precision_score :  0.8880597014925373\n",
      "recall_score :  0.9175824175824177\n",
      "f1_score :  0.8920646102752479\n"
     ]
    },
    {
     "name": "stderr",
     "output_type": "stream",
     "text": [
      "c:\\Program Files\\Python38\\lib\\site-packages\\sklearn\\utils\\deprecation.py:87: FutureWarning: Function plot_confusion_matrix is deprecated; Function `plot_confusion_matrix` is deprecated in 1.0 and will be removed in 1.2. Use one of the class methods: ConfusionMatrixDisplay.from_predictions or ConfusionMatrixDisplay.from_estimator.\n",
      "  warnings.warn(msg, category=FutureWarning)\n"
     ]
    },
    {
     "data": {
      "image/png": "[encoded data removed]",
      "text/plain": [
       "<Figure size 432x288 with 2 Axes>"
      ]
     },
     "metadata": {
      "needs_background": "light"
     },
     "output_type": "display_data"
    }
   ],
   "source": [
    "# 설정 o\n",
    "from sklearn.metrics import f1_score\n",
    "from sklearn.metrics import recall_score\n",
    "from sklearn.metrics import precision_score\n",
    "from sklearn.metrics import confusion_matrix\n",
    "from sklearn.svm import SVC\n",
    "svc2 = SVC(C=1, gamma=1, random_state=0)\n",
    "svc2.fit(X_train, y_train)\n",
    "\n",
    "print('Train Data score : ', round(svc2.score(X_train, y_train), 3))\n",
    "print('Test Data score : ',  round(svc2.score(X_test, y_test), 3))\n",
    "\n",
    "prediction2 = svc2.predict(X_test)\n",
    "confusion2 = confusion_matrix(y_true=y_test, y_pred=prediction2)\n",
    "print(confusion2)\n",
    "\n",
    "# 분류 알고리즘 평가\n",
    "precision = precision_score(y_test, prediction2, average='macro')\n",
    "print('precision_score : ', precision)\n",
    "\n",
    "recall = recall_score(y_test, prediction2, average='macro')\n",
    "print('recall_score : ', recall)\n",
    "\n",
    "f1 = f1_score(y_test, prediction2, average='macro')\n",
    "print('f1_score : ', f1)\n",
    "\n",
    "import matplotlib.pyplot as plt\n",
    "from sklearn.metrics import plot_confusion_matrix\n",
    "\n",
    "titles_options = [('SVC(C=1, gamma=1, random_state=0)', None)]\n",
    "for title, normalize in titles_options:\n",
    "    disp = plot_confusion_matrix(\n",
    "        svc2, X_test, y_test, cmap=plt.cm.Blues, normalize=normalize)\n",
    "    disp.ax_.set_title(title)\n",
    "\n",
    "plt.show()\n"
   ]
  },
  {
   "cell_type": "code",
   "execution_count": 45,
   "metadata": {},
   "outputs": [
    {
     "name": "stderr",
     "output_type": "stream",
     "text": [
      "c:\\Program Files\\Python38\\lib\\site-packages\\sklearn\\utils\\deprecation.py:87: FutureWarning: Function plot_confusion_matrix is deprecated; Function `plot_confusion_matrix` is deprecated in 1.0 and will be removed in 1.2. Use one of the class methods: ConfusionMatrixDisplay.from_predictions or ConfusionMatrixDisplay.from_estimator.\n",
      "  warnings.warn(msg, category=FutureWarning)\n"
     ]
    },
    {
     "data": {
      "image/png": "[encoded data removed]",
      "text/plain": [
       "<Figure size 432x288 with 2 Axes>"
      ]
     },
     "metadata": {
      "needs_background": "light"
     },
     "output_type": "display_data"
    }
   ],
   "source": [
    "# MinMaxScaler 사용 \n",
    "from sklearn.preprocessing import MinMaxScaler\n",
    "\n",
    "scaler = MinMaxScaler()\n",
    "scaler.fit(X_train)\n",
    "\n",
    "X_train_scaled = scaler.transform(X_train)\n",
    "X_test_scaled = scaler.transform(X_test)\n",
    "\n",
    "svc = SVC()\n",
    "svc.fit(X_train_scaled, y_train)\n",
    "\n",
    "prediction = svc.predict(X_test_scaled)\n",
    "\n",
    "# 오차행렬 시각화\n",
    "import matplotlib.pyplot as plt\n",
    "from sklearn.metrics import plot_confusion_matrix\n",
    "\n",
    "titles_options = [('MinMaxScaler', None)]\n",
    "for title, normalize in titles_options:\n",
    "    disp = plot_confusion_matrix(\n",
    "        svc, X_test_scaled, y_test, cmap=plt.cm.Blues, normalize=normalize)\n",
    "    disp.ax_.set_title(title)\n",
    "\n",
    "plt.show()\n",
    "\n"
   ]
  }
 ],
 "metadata": {
  "interpreter": {
   "hash": "570feb405e2e27c949193ac68f46852414290d515b0ba6e5d90d076ed2284471"
  },
  "kernelspec": {
   "display_name": "Python 3.8.5 64-bit",
   "language": "python",
   "name": "python3"
  },
  "language_info": {
   "codemirror_mode": {
    "name": "ipython",
    "version": 3
   },
   "file_extension": ".py",
   "mimetype": "text/x-python",
   "name": "python",
   "nbconvert_exporter": "python",
   "pygments_lexer": "ipython3",
   "version": "3.8.5"
  },
  "orig_nbformat": 4
 },
 "nbformat": 4,
 "nbformat_minor": 2
}

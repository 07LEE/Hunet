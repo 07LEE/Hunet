{
 "cells": [
  {
   "cell_type": "markdown",
   "metadata": {},
   "source": [
    "### 필요한 모듈 불러오기"
   ]
  },
  {
   "cell_type": "code",
   "execution_count": 52,
   "metadata": {},
   "outputs": [],
   "source": [
    "from tensorflow.keras.callbacks import EarlyStopping, ModelCheckpoint\n",
    "from tensorflow.keras.optimizers import Adam\n",
    "from tensorflow.keras.losses import Huber\n",
    "from tensorflow.keras.layers import Dense, LSTM, Conv1D, Lambda\n",
    "from tensorflow.keras.models import Sequential\n",
    "from sklearn.model_selection import train_test_split\n",
    "from sklearn.preprocessing import MinMaxScaler\n",
    "import matplotlib.pyplot as plt\n",
    "import FinanceDataReader as fdr\n",
    "import tensorflow as tf\n",
    "import pandas as pd\n",
    "import numpy as np\n",
    "import seaborn as sns"
   ]
  },
  {
   "cell_type": "markdown",
   "metadata": {},
   "source": [
    "### FinanceDataReader 이용하여 주식 데이터 불러오기"
   ]
  },
  {
   "cell_type": "code",
   "execution_count": 53,
   "metadata": {},
   "outputs": [
    {
     "name": "stderr",
     "output_type": "stream",
     "text": [
      "c:\\Program Files\\Python38\\lib\\site-packages\\FinanceDataReader\\data.py:47: FutureWarning: The frame.append method is deprecated and will be removed from pandas in a future version. Use pandas.concat instead.\n",
      "  df = df.append(more)\n",
      "c:\\Program Files\\Python38\\lib\\site-packages\\FinanceDataReader\\data.py:47: FutureWarning: The frame.append method is deprecated and will be removed from pandas in a future version. Use pandas.concat instead.\n",
      "  df = df.append(more)\n"
     ]
    },
    {
     "name": "stdout",
     "output_type": "stream",
     "text": [
      "<class 'pandas.core.frame.DataFrame'>\n",
      "DatetimeIndex: 10635 entries, 1980-03-18 to 2022-05-20\n",
      "Data columns (total 6 columns):\n",
      " #   Column  Non-Null Count  Dtype  \n",
      "---  ------  --------------  -----  \n",
      " 0   Close   10635 non-null  float64\n",
      " 1   Open    10635 non-null  float64\n",
      " 2   High    10635 non-null  float64\n",
      " 3   Low     10635 non-null  float64\n",
      " 4   Volume  10635 non-null  float64\n",
      " 5   Change  10635 non-null  float64\n",
      "dtypes: float64(6)\n",
      "memory usage: 581.6 KB\n"
     ]
    },
    {
     "data": {
      "text/html": [
       "<div>\n",
       "<style scoped>\n",
       "    .dataframe tbody tr th:only-of-type {\n",
       "        vertical-align: middle;\n",
       "    }\n",
       "\n",
       "    .dataframe tbody tr th {\n",
       "        vertical-align: top;\n",
       "    }\n",
       "\n",
       "    .dataframe thead th {\n",
       "        text-align: right;\n",
       "    }\n",
       "</style>\n",
       "<table border=\"1\" class=\"dataframe\">\n",
       "  <thead>\n",
       "    <tr style=\"text-align: right;\">\n",
       "      <th></th>\n",
       "      <th>Close</th>\n",
       "      <th>Open</th>\n",
       "      <th>High</th>\n",
       "      <th>Low</th>\n",
       "      <th>Volume</th>\n",
       "      <th>Change</th>\n",
       "    </tr>\n",
       "    <tr>\n",
       "      <th>Date</th>\n",
       "      <th></th>\n",
       "      <th></th>\n",
       "      <th></th>\n",
       "      <th></th>\n",
       "      <th></th>\n",
       "      <th></th>\n",
       "    </tr>\n",
       "  </thead>\n",
       "  <tbody>\n",
       "    <tr>\n",
       "      <th>1980-03-18</th>\n",
       "      <td>1.92</td>\n",
       "      <td>1.92</td>\n",
       "      <td>1.92</td>\n",
       "      <td>1.85</td>\n",
       "      <td>3080000.0</td>\n",
       "      <td>0.0267</td>\n",
       "    </tr>\n",
       "    <tr>\n",
       "      <th>1980-03-19</th>\n",
       "      <td>1.92</td>\n",
       "      <td>1.92</td>\n",
       "      <td>1.94</td>\n",
       "      <td>1.90</td>\n",
       "      <td>744010.0</td>\n",
       "      <td>0.0000</td>\n",
       "    </tr>\n",
       "    <tr>\n",
       "      <th>1980-03-20</th>\n",
       "      <td>1.88</td>\n",
       "      <td>1.88</td>\n",
       "      <td>1.91</td>\n",
       "      <td>1.87</td>\n",
       "      <td>856800.0</td>\n",
       "      <td>-0.0208</td>\n",
       "    </tr>\n",
       "    <tr>\n",
       "      <th>1980-03-21</th>\n",
       "      <td>1.89</td>\n",
       "      <td>1.89</td>\n",
       "      <td>1.90</td>\n",
       "      <td>1.86</td>\n",
       "      <td>986400.0</td>\n",
       "      <td>0.0053</td>\n",
       "    </tr>\n",
       "    <tr>\n",
       "      <th>1980-03-24</th>\n",
       "      <td>1.87</td>\n",
       "      <td>1.87</td>\n",
       "      <td>1.89</td>\n",
       "      <td>1.86</td>\n",
       "      <td>1560000.0</td>\n",
       "      <td>-0.0106</td>\n",
       "    </tr>\n",
       "  </tbody>\n",
       "</table>\n",
       "</div>"
      ],
      "text/plain": [
       "            Close  Open  High   Low     Volume  Change\n",
       "Date                                                  \n",
       "1980-03-18   1.92  1.92  1.92  1.85  3080000.0  0.0267\n",
       "1980-03-19   1.92  1.92  1.94  1.90   744010.0  0.0000\n",
       "1980-03-20   1.88  1.88  1.91  1.87   856800.0 -0.0208\n",
       "1980-03-21   1.89  1.89  1.90  1.86   986400.0  0.0053\n",
       "1980-03-24   1.87  1.87  1.89  1.86  1560000.0 -0.0106"
      ]
     },
     "execution_count": 53,
     "metadata": {},
     "output_type": "execute_result"
    }
   ],
   "source": [
    "df = 'AXP' # 아메리칸 익스프레스 주가\n",
    "# df = 'AAPL' # 애플 주가\n",
    "df = fdr.DataReader(df)\n",
    "df.info()\n",
    "df.head()\n"
   ]
  },
  {
   "cell_type": "code",
   "execution_count": 54,
   "metadata": {},
   "outputs": [
    {
     "data": {
      "text/plain": [
       "Text(0, 0.5, 'price')"
      ]
     },
     "execution_count": 54,
     "metadata": {},
     "output_type": "execute_result"
    },
    {
     "data": {
      "image/png": "[encoded data removed]",
      "text/plain": [
       "<Figure size 432x288 with 1 Axes>"
      ]
     },
     "metadata": {
      "needs_background": "light"
     },
     "output_type": "display_data"
    }
   ],
   "source": [
    "# 표\n",
    "sns.lineplot(y=df['Close'], x=df.index)\n",
    "plt.xlabel('time')\n",
    "plt.ylabel('price')"
   ]
  },
  {
   "cell_type": "markdown",
   "metadata": {},
   "source": [
    "### 데이터 전처리"
   ]
  },
  {
   "cell_type": "markdown",
   "metadata": {},
   "source": [
    "#### 중위값"
   ]
  },
  {
   "cell_type": "code",
   "execution_count": 55,
   "metadata": {},
   "outputs": [
    {
     "name": "stdout",
     "output_type": "stream",
     "text": [
      "<class 'pandas.core.frame.DataFrame'>\n",
      "DatetimeIndex: 10635 entries, 1980-03-18 to 2022-05-20\n",
      "Data columns (total 7 columns):\n",
      " #   Column  Non-Null Count  Dtype  \n",
      "---  ------  --------------  -----  \n",
      " 0   Close   10635 non-null  float64\n",
      " 1   Open    10635 non-null  float64\n",
      " 2   High    10635 non-null  float64\n",
      " 3   Low     10635 non-null  float64\n",
      " 4   Volume  10635 non-null  float64\n",
      " 5   Change  10635 non-null  float64\n",
      " 6   Mid     10635 non-null  float64\n",
      "dtypes: float64(7)\n",
      "memory usage: 664.7 KB\n"
     ]
    }
   ],
   "source": [
    "high_prices = df['High'].values\n",
    "low_prices = df['Low'].values\n",
    "mid_prices = (high_prices + low_prices) / 2\n",
    "df['Mid'] = mid_prices\n",
    "df.info()\n"
   ]
  },
  {
   "cell_type": "markdown",
   "metadata": {},
   "source": [
    "#### 이동평균선"
   ]
  },
  {
   "cell_type": "code",
   "execution_count": 56,
   "metadata": {},
   "outputs": [],
   "source": [
    "#이동평균선 5일, 20일, 200일 \n",
    "ma5 = df['Close'].rolling(window=5).mean()\n",
    "df['MA5'] = ma5\n",
    "ma20 = df['Close'].rolling(window=20).mean()\n",
    "df['MA20'] = ma20\n",
    "ma200 = df['Close'].rolling(window=200).mean()\n",
    "df['MA200'] = ma200\n",
    "\n",
    "\n",
    "df = df.dropna()"
   ]
  },
  {
   "cell_type": "markdown",
   "metadata": {},
   "source": [
    "#### GC DC"
   ]
  },
  {
   "cell_type": "code",
   "execution_count": 57,
   "metadata": {},
   "outputs": [],
   "source": [
    "gc_point = []\n",
    "dc_point =[]\n",
    "\n",
    "for i in range(len(df['MA20'])):\n",
    "    gc_point.append(0)\n",
    "    dc_point.append(0)\n",
    "\n",
    "for i in range(len(df['MA200'])-1):\n",
    "    if df['MA20'][i] <= df['MA200'][i] and df['MA20'][i+1] > df['MA200'][i+1]:\n",
    "        gc_point[i]= 1\n",
    "    elif df['MA20'][i] >= df['MA200'][i] and df['MA20'][i+1] < df['MA200'][i+1]:\n",
    "        dc_point[i]= 1\n",
    "    \n",
    "df.insert(len(df.columns), \"GC\", gc_point)\n",
    "df.insert(len(df.columns), \"DC\", dc_point)"
   ]
  },
  {
   "cell_type": "markdown",
   "metadata": {},
   "source": [
    "#### Bollinger Bands\n",
    "\n",
    "mbb = 중심선 = 주가의 20 기간 이동평균선 = ma20   \n",
    "ubb = 상한선 = 중심선 + 주가의 20기간 표준편차 * 2   \n",
    "lbb = 하한선 = 중심선 – 주가의 20기간 표준편차 * 2   \n",
    "perb = %b = (주가 – 하한선) / (상한선 – 하한선) = (close - lbb) / (ubb - lbb)   \n",
    "bw = 밴드폭 (Bandwidth) = (상한선 – 하한선) / 중심선 = (ubb - lbb) / mbb   "
   ]
  },
  {
   "cell_type": "code",
   "execution_count": 60,
   "metadata": {},
   "outputs": [
    {
     "name": "stdout",
     "output_type": "stream",
     "text": [
      "             Close    Open    High     Low     Volume  Change      Mid  \\\n",
      "Date                                                                     \n",
      "2022-05-09  161.02  165.03  166.02  160.38  4490000.0 -0.0367  163.200   \n",
      "2022-05-10  161.83  163.42  164.73  158.39  3010000.0  0.0050  161.560   \n",
      "2022-05-11  159.39  161.73  164.94  159.04  2630000.0 -0.0151  161.990   \n",
      "2022-05-12  153.27  155.60  157.15  149.88  5010000.0 -0.0384  153.515   \n",
      "2022-05-13  158.75  155.96  160.09  155.88  3330000.0  0.0358  157.985   \n",
      "2022-05-16  156.43  157.41  158.74  154.32  2750000.0 -0.0146  156.530   \n",
      "2022-05-17  161.85  161.07  162.76  158.40  2920000.0  0.0346  160.580   \n",
      "2022-05-18  156.10  160.79  160.85  155.40  2690000.0 -0.0355  158.125   \n",
      "2022-05-19  154.00  153.57  156.46  153.25  2770000.0 -0.0135  154.855   \n",
      "2022-05-20  153.24  154.35  154.80  149.71  2980000.0 -0.0049  152.255   \n",
      "\n",
      "                MA5      MA20        MA60      MA200  GC  DC     stddev  \\\n",
      "Date                                                                      \n",
      "2022-05-09  169.822  177.9025  182.397667  173.76805   0   0   6.940256   \n",
      "2022-05-10  167.766  177.1155  181.898000  173.71415   0   0   7.816997   \n",
      "2022-05-11  164.080  176.3080  181.348667  173.64640   0   0   8.764982   \n",
      "2022-05-12  160.532  174.9920  180.603500  173.56265   0   0  10.117765   \n",
      "2022-05-13  158.852  173.8715  179.943000  173.49665   0   1  10.626833   \n",
      "2022-05-16  157.934  172.4690  179.288333  173.42615   0   0  10.997578   \n",
      "2022-05-17  157.938  171.2030  178.737833  173.38905   0   0  10.668636   \n",
      "2022-05-18  157.280  169.5850  178.132167  173.32435   0   0  10.363180   \n",
      "2022-05-19  157.426  167.9980  177.549667  173.25405   0   0  10.187844   \n",
      "2022-05-20  156.324  166.6330  176.964500  173.17210   0   0  10.247679   \n",
      "\n",
      "                 upper       lower  \n",
      "Date                                \n",
      "2022-05-09  191.783012  164.021988  \n",
      "2022-05-10  192.749493  161.481507  \n",
      "2022-05-11  193.837964  158.778036  \n",
      "2022-05-12  195.227530  154.756470  \n",
      "2022-05-13  195.125166  152.617834  \n",
      "2022-05-16  194.464155  150.473845  \n",
      "2022-05-17  192.540273  149.865727  \n",
      "2022-05-18  190.311359  148.858641  \n",
      "2022-05-19  188.373688  147.622312  \n",
      "2022-05-20  187.128357  146.137643  \n"
     ]
    }
   ],
   "source": [
    "df['stddev'] = df['Close'].rolling(window=20).std() # 20일 표준편차\n",
    "df['upper'] = df['MA20'] + (df['stddev'] * 2) # 상단 볼린저 밴드\n",
    "df['lower'] = df['MA20'] - (df['stddev'] * 2) # 하단 볼린저 밴드"
   ]
  },
  {
   "cell_type": "code",
   "execution_count": null,
   "metadata": {},
   "outputs": [],
   "source": []
  },
  {
   "cell_type": "markdown",
   "metadata": {},
   "source": [
    "#### 스케일링"
   ]
  },
  {
   "cell_type": "code",
   "execution_count": null,
   "metadata": {},
   "outputs": [],
   "source": [
    "scaler = MinMaxScaler()\n",
    "scale_cols = ['Open', 'High', 'Low', 'Close', 'Volume']\n",
    "scaled = scaler.fit_transform(df[scale_cols])"
   ]
  }
 ],
 "metadata": {
  "interpreter": {
   "hash": "570feb405e2e27c949193ac68f46852414290d515b0ba6e5d90d076ed2284471"
  },
  "kernelspec": {
   "display_name": "Python 3.8.5 64-bit",
   "language": "python",
   "name": "python3"
  },
  "language_info": {
   "codemirror_mode": {
    "name": "ipython",
    "version": 3
   },
   "file_extension": ".py",
   "mimetype": "text/x-python",
   "name": "python",
   "nbconvert_exporter": "python",
   "pygments_lexer": "ipython3",
   "version": "3.8.5"
  },
  "orig_nbformat": 4
 },
 "nbformat": 4,
 "nbformat_minor": 2
}
